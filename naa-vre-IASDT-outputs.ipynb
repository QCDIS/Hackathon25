{
 "cells": [
  {
   "cell_type": "markdown",
   "metadata": {},
   "source": [
    "# Data Streaming Invasive Alien Species Digital Twin Outputs\n",
    "\n",
    "**Author**: [Taimur Khan](https://www.ufz.de/index.php?en=49404), Helmholtz Centre for Environmental Research - UFZ, Germany\n",
    "\n",
    "**Date**: 2025-02-20\n",
    "\n",
    "## Purpose\n",
    "\n",
    "The purpose of this notebook is to demonstrate how to stream the outputs of the Invasive Alien Species Digital Twin from the [BioDT OPenDAP service](http://opendap.biodt.eu). The outputs are streamed in real-time using `rioxarray` and visualized using the `matplotlib` library.\n",
    "\n",
    "The notebook has been parameterized using Jupyter Widgets to allow the user to select the desired habitat, climate model, climate scenario, and time period parameters for querying the desired dataset. \n",
    "\n",
    "The notebook is divided into the following sections:\n",
    "- [1. Import Libraries](#1.-Import-Libraries)\n",
    "- [2. Define Parameters](#2.-Define-Parameters)\n",
    "- [3. Query URL](#3.-Query-Data)\n",
    "- [4. Stream Data](#4.-Stream-Data)\n",
    "- [5. Visualize Data](#5.-Visualize-Data)\n",
    "- [6. Download Data (optional)](#6.-Download)"
   ]
  },
  {
   "cell_type": "markdown",
   "metadata": {},
   "source": [
    "## 1. Import Libraries"
   ]
  },
  {
   "cell_type": "markdown",
   "metadata": {},
   "source": [
    "If you do not have the required libraries installed, you can install them by running the following cell:"
   ]
  },
  {
   "cell_type": "code",
   "execution_count": 1,
   "metadata": {},
   "outputs": [],
   "source": [
    "# !pip install rioxarray matplotlib pandas matplotlib_scalebar ipywidgets"
   ]
  },
  {
   "cell_type": "markdown",
   "metadata": {},
   "source": [
    "Otherwise just import the following:"
   ]
  },
  {
   "cell_type": "code",
   "execution_count": 2,
   "metadata": {},
   "outputs": [],
   "source": [
    "import pandas as pd\n",
    "import ipywidgets as widgets\n",
    "from IPython.display import display\n",
    "import rioxarray\n",
    "import matplotlib.pyplot as plt\n",
    "from matplotlib_scalebar.scalebar import ScaleBar\n",
    "import matplotlib.patches as mpatches"
   ]
  },
  {
   "cell_type": "code",
   "execution_count": 3,
   "metadata": {},
   "outputs": [
    {
     "name": "stdout",
     "output_type": "stream",
     "text": [
      "Select a habitat type from the dropdown list:\n",
      "Selected Habitat Abbreviation: 4b\n"
     ]
    }
   ],
   "source": [
    "# A-Selecte Habitat\n",
    "url = \"http://opendap.biodt.eu/ias-pdt/0/outputs/key.csv\"\n",
    "df_hab = pd.read_csv(url)\n",
    "\n",
    "# Display the dropdown widget\n",
    "print(\"Select a habitat type from the dropdown list:\")\n",
    "\n",
    "\n",
    "# Get the corresponding value for hab_abb for the selected hab_name\n",
    "selected_hab_abb = '1'\n",
    "param_habitat_type = 'human_maintained_grasslands'\n",
    "conf_data_path = '/tmp/data/'\n",
    "selected_hab_abb = str(df_hab[df_hab[\"hab_name\"] == param_habitat_type][\"hab_abb\"].values[0])\n",
    "\n",
    "print(f\"Selected Habitat Abbreviation: {selected_hab_abb}\")\n",
    "\n"
   ]
  },
  {
   "cell_type": "markdown",
   "metadata": {},
   "source": [
    "### Select Climate Model, Scenario, and Species"
   ]
  },
  {
   "cell_type": "code",
   "execution_count": 4,
   "metadata": {},
   "outputs": [],
   "source": [
    "# B-Load the remote txt file as dataframe\n",
    "url_txt = f\"http://opendap.biodt.eu/ias-pdt/0/outputs/hab{selected_hab_abb}/predictions/Prediction_Summary_Shiny.txt\"\n",
    "df_mod = pd.read_csv(url_txt, sep=\"\\t\")\n",
    "\n",
    "# Create dropdown widgets with added space\n",
    "habitat_dropdown = widgets.Dropdown(\n",
    "    options=df_mod[\n",
    "        \"hab_name\"\n",
    "    ].unique(),  # Replace 'column_name' with the actual column name you want to use\n",
    "    description=\"Habitat Type:\",\n",
    "    disabled=False,\n",
    "    layout=widgets.Layout(margin=\"0 0 0 0px\"),\n",
    ")\n",
    "\n",
    "climate_model_dropdown = widgets.Dropdown(\n",
    "    options=df_mod[\"climate_model\"].unique(),\n",
    "    description=\"Climate Model:\",\n",
    "    disabled=False,\n",
    "    layout=widgets.Layout(margin='0 0 0 0px')\n",
    ")\n",
    "\n",
    "climate_model_dropdown.options = list(climate_model_dropdown.options) + [\"Ensemble\"]\n",
    "\n",
    "\n",
    "climate_scenario_dropdown = widgets.Dropdown(\n",
    "    options=df_mod[\"climate_scenario\"].unique(),\n",
    "    description=\"Climate Scenario:\",\n",
    "    disabled=False,\n",
    "    layout=widgets.Layout(margin='0 0 0 0px')\n",
    ")\n",
    "\n",
    "time_period_dropdown = widgets.Dropdown(\n",
    "    options=df_mod[\"time_period\"].unique(),\n",
    "    description=\"Time Period:\",\n",
    "    disabled=False,\n",
    "    layout=widgets.Layout(margin='0 0 0 0px')\n",
    ")\n",
    "\n",
    "species_name_dropdown = widgets.Dropdown(\n",
    "    options=df_mod[\"species_name\"].dropna().unique(),\n",
    "    description=\"Species Name:\",\n",
    "    disabled=False,\n",
    ") \n",
    "\n",
    "param_habitat_name =  'Human maintained grasslands'\n",
    "param_climate_model = 'Current'\n",
    "param_climate_scenario = 'Current'\n",
    "param_time_period = '1981-2010'\n",
    "param_species_name = 'Agave americana' \n",
    "\n",
    "\n",
    "conf_x =  0.95\n",
    "conf_y =  0.95\n",
    "conf_arrow_length = 0.1\n"
   ]
  },
  {
   "cell_type": "markdown",
   "metadata": {},
   "source": [
    "## 3. Query URL"
   ]
  },
  {
   "cell_type": "code",
   "execution_count": 5,
   "metadata": {},
   "outputs": [],
   "source": [
    "# C-Query URL\n",
    "url_txt = f\"http://opendap.biodt.eu/ias-pdt/0/outputs/hab{selected_hab_abb}/predictions/Prediction_Summary_Shiny.txt\"\n",
    "df_mod = pd.read_csv(url_txt, sep=\"\\t\")\n",
    "\n",
    "hab_num = df_mod[df_mod[\"hab_name\"] == param_habitat_name][\"hab_abb\"].values[0]\n",
    "tif_path_mean = df_mod[\n",
    "    (df_mod[\"hab_abb\"] == hab_num) &\n",
    "    (df_mod[\"climate_model\"] == param_climate_model) &\n",
    "    (df_mod[\"climate_scenario\"] == param_climate_scenario) &\n",
    "    (df_mod[\"time_period\"] == param_time_period) &\n",
    "    (df_mod[\"species_name\"] == param_species_name)\n",
    "][\"tif_path_mean\"].values[0]\n",
    "\n",
    "tif_path_sd = df_mod[\n",
    "    (df_mod[\"hab_abb\"] == hab_num)\n",
    "    & (df_mod[\"climate_model\"] == param_climate_model)\n",
    "    & (df_mod[\"climate_scenario\"] == param_climate_scenario)\n",
    "    & (df_mod[\"time_period\"] == param_time_period)\n",
    "    & (df_mod[\"species_name\"] == param_species_name)\n",
    "][\"tif_path_sd\"].values[0]\n",
    "\n",
    "tif_path_cov = df_mod[\n",
    "    (df_mod[\"hab_abb\"] == hab_num)\n",
    "    & (df_mod[\"climate_model\"] == param_climate_model)\n",
    "    & (df_mod[\"climate_scenario\"] == param_climate_scenario)\n",
    "    & (df_mod[\"time_period\"] == param_time_period)\n",
    "    & (df_mod[\"species_name\"] == param_species_name)\n",
    "][\"tif_path_cov\"].values[0]\n",
    "\n",
    "tif_path_anomaly = df_mod[\n",
    "    (df_mod[\"hab_abb\"] == hab_num)\n",
    "    & (df_mod[\"climate_model\"] == param_climate_model)\n",
    "    & (df_mod[\"climate_scenario\"] == param_climate_scenario)\n",
    "    & (df_mod[\"time_period\"] == param_time_period)\n",
    "    & (df_mod[\"species_name\"] == param_species_name)\n",
    "][\"tif_path_anomaly\"].values[0]\n",
    "\n",
    "mean_url = f\"http://opendap.biodt.eu/ias-pdt/0/outputs/hab{hab_num}/predictions/{tif_path_mean}\"\n",
    "sd_url = f\"http://opendap.biodt.eu/ias-pdt/0/outputs/hab{hab_num}/predictions/{tif_path_sd}\"\n",
    "cov_url = f\"http://opendap.biodt.eu/ias-pdt/0/outputs/hab{hab_num}/predictions/{tif_path_cov}\"\n",
    "anomaly_url = f\"http://opendap.biodt.eu/ias-pdt/0/outputs/hab{hab_num}/predictions/{tif_path_anomaly}\""
   ]
  },
  {
   "cell_type": "code",
   "execution_count": 6,
   "metadata": {},
   "outputs": [
    {
     "name": "stdout",
     "output_type": "stream",
     "text": [
      "http://opendap.biodt.eu/ias-pdt/0/outputs/hab4b/predictions/Current/Sp_0025_mean.tif\n",
      "http://opendap.biodt.eu/ias-pdt/0/outputs/hab4b/predictions/Current/Sp_0025_sd.tif\n",
      "http://opendap.biodt.eu/ias-pdt/0/outputs/hab4b/predictions/Current/Sp_0025_cov.tif\n",
      "http://opendap.biodt.eu/ias-pdt/0/outputs/hab4b/predictions/nan\n"
     ]
    }
   ],
   "source": [
    "print(mean_url)\n",
    "print(sd_url)\n",
    "print(cov_url)\n",
    "print(anomaly_url)\n"
   ]
  },
  {
   "cell_type": "markdown",
   "metadata": {},
   "source": [
    "## 4. Stream Data"
   ]
  },
  {
   "cell_type": "markdown",
   "metadata": {},
   "source": [
    "## 5. Visualize Data"
   ]
  },
  {
   "cell_type": "code",
   "execution_count": 7,
   "metadata": {},
   "outputs": [
    {
     "name": "stderr",
     "output_type": "stream",
     "text": [
      "Warning 1: HTTP response code on http://opendap.biodt.eu/ias-pdt/0/outputs/hab4b/predictions/Current/Sp_0025_mean.tif.msk: 502\n",
      "Warning 1: HTTP response code on http://opendap.biodt.eu/ias-pdt/0/outputs/hab4b/predictions/Current/Sp_0025_mean.tif.MSK: 502\n",
      "/opt/conda/envs/biodt-hackathon25/lib/python3.12/site-packages/matplotlib_scalebar/scalebar.py:457: UserWarning: Drawing scalebar on axes with unequal aspect ratio; either call ax.set_aspect(1) or suppress the warning with rotation='horizontal-only'.\n",
      "  warnings.warn(\n"
     ]
    }
   ],
   "source": [
    "# D-Plot Mean\n",
    "fig, ax = plt.subplots(figsize=(10, 8))\n",
    "data_mean = rioxarray.open_rasterio(mean_url)\n",
    "data_mean.plot(ax=ax, cmap=\"Spectral\")\n",
    "image_name = f\"Mean Species Distribution for {param_species_name} in {param_habitat_name} for {param_time_period} and {param_climate_model} {param_climate_scenario}\"\n",
    "plt.title(image_name)\n",
    "\n",
    "# Add grid lines\n",
    "ax.grid(True, linestyle='--', linewidth=0.5)\n",
    "\n",
    "# Add a scale bar\n",
    "scalebar = ScaleBar(1, location='upper right')  # 1 pixel = 1 unit\n",
    "ax.add_artist(scalebar)\n",
    "\n",
    "# Add a north arrow\n",
    "ax.annotate('N', xy=(conf_x, conf_y), xytext=(conf_x, conf_y-conf_arrow_length),\n",
    "            arrowprops=dict(facecolor='black', width=5, headwidth=15),\n",
    "            ha='center', va='center', fontsize=12,\n",
    "            xycoords=ax.transAxes)\n",
    "\n",
    "# plt.show()\n",
    "\n",
    "# Save the figure\n",
    "plt.savefig(conf_data_path+image_name)\n",
    "plt.close()"
   ]
  },
  {
   "cell_type": "code",
   "execution_count": 8,
   "metadata": {},
   "outputs": [
    {
     "name": "stderr",
     "output_type": "stream",
     "text": [
      "Warning 1: HTTP response code on http://opendap.biodt.eu/ias-pdt/0/outputs/hab4b/predictions/Current/Sp_0025_sd.tif.msk: 502\n",
      "Warning 1: HTTP response code on http://opendap.biodt.eu/ias-pdt/0/outputs/hab4b/predictions/Current/Sp_0025_sd.tif.MSK: 502\n",
      "/opt/conda/envs/biodt-hackathon25/lib/python3.12/site-packages/matplotlib_scalebar/scalebar.py:457: UserWarning: Drawing scalebar on axes with unequal aspect ratio; either call ax.set_aspect(1) or suppress the warning with rotation='horizontal-only'.\n",
      "  warnings.warn(\n"
     ]
    }
   ],
   "source": [
    "# E-Plot stdev\n",
    "fig, ax = plt.subplots(figsize=(10, 8))\n",
    "data_sd = rioxarray.open_rasterio(sd_url)\n",
    "data_sd.plot(ax=ax, cmap=\"Spectral\")\n",
    "image_name = f\"Standard Deviation of {param_species_name} distribution for {param_climate_model} {param_climate_scenario} {param_time_period}\"\n",
    "plt.title(image_name)\n",
    "\n",
    "# Add grid lines\n",
    "ax.grid(True, linestyle='--', linewidth=0.5)\n",
    "\n",
    "# Add a scale bar\n",
    "scalebar = ScaleBar(1, location='upper right')  # 1 pixel = 1 unit\n",
    "ax.add_artist(scalebar)\n",
    "\n",
    "# Add a north arrow\n",
    "ax.annotate('N', xy=(conf_x, conf_y), xytext=(conf_x, conf_y-conf_arrow_length),\n",
    "            arrowprops=dict(facecolor='black', width=5, headwidth=15),\n",
    "            ha='center', va='center', fontsize=12,\n",
    "            xycoords=ax.transAxes)\n",
    "plt.savefig(conf_data_path+image_name)\n",
    "plt.close()\n",
    "\n"
   ]
  },
  {
   "cell_type": "code",
   "execution_count": 9,
   "metadata": {},
   "outputs": [
    {
     "name": "stderr",
     "output_type": "stream",
     "text": [
      "Warning 1: HTTP response code on http://opendap.biodt.eu/ias-pdt/0/outputs/hab4b/predictions/Current/Sp_0025_cov.tif.msk: 502\n",
      "Warning 1: HTTP response code on http://opendap.biodt.eu/ias-pdt/0/outputs/hab4b/predictions/Current/Sp_0025_cov.tif.MSK: 502\n",
      "/opt/conda/envs/biodt-hackathon25/lib/python3.12/site-packages/matplotlib_scalebar/scalebar.py:457: UserWarning: Drawing scalebar on axes with unequal aspect ratio; either call ax.set_aspect(1) or suppress the warning with rotation='horizontal-only'.\n",
      "  warnings.warn(\n"
     ]
    }
   ],
   "source": [
    "# F-Plot Coefficient\n",
    "fig, ax = plt.subplots(figsize=(10, 8))\n",
    "data_cov = rioxarray.open_rasterio(cov_url)\n",
    "data_cov.plot(ax=ax, cmap=\"Spectral\")\n",
    "image_name = f\"Coefficient of Variation of {param_species_name} distribution for {param_climate_model} {param_climate_scenario} {param_time_period}\"\n",
    "plt.title(image_name)\n",
    "\n",
    "# Add grid lines\n",
    "ax.grid(True, linestyle='--', linewidth=0.5)\n",
    "\n",
    "# Add a scale bar\n",
    "scalebar = ScaleBar(1, location='upper right')  # 1 pixel = 1 unit\n",
    "ax.add_artist(scalebar)\n",
    "\n",
    "# Add a north arrow\n",
    "ax.annotate('N', xy=(conf_x, conf_y), xytext=(conf_x, conf_y-conf_arrow_length),\n",
    "            arrowprops=dict(facecolor='black', width=5, headwidth=15),\n",
    "            ha='center', va='center', fontsize=12,\n",
    "            xycoords=ax.transAxes)\n",
    "\n",
    "plt.savefig(conf_data_path+image_name)\n",
    "plt.close()"
   ]
  },
  {
   "cell_type": "code",
   "execution_count": 10,
   "metadata": {},
   "outputs": [
    {
     "name": "stdout",
     "output_type": "stream",
     "text": [
      "Anomaly map does not exist for the current selection\n"
     ]
    }
   ],
   "source": [
    "# G-Ploat Anomaly\n",
    "if \"nan\" not in anomaly_url:\n",
    "    data_anomaly = rioxarray.open_rasterio(anomaly_url)\n",
    "    fig, ax = plt.subplots(figsize=(10, 8))\n",
    "    data_anomaly.plot(ax=ax, cmap=\"Spectral\")\n",
    "    image_name = f\"Anomaly of {param_species_name} distribution for {param_climate_model} {param_climate_scenario} {param_time_period}\"\n",
    "    plt.title(image_name)\n",
    "\n",
    "    # Add grid lines\n",
    "    ax.grid(True, linestyle='--', linewidth=0.5)\n",
    "\n",
    "    # Add a scale bar\n",
    "    scalebar = ScaleBar(1, location='upper right')  # 1 pixel = 1 unit\n",
    "    ax.add_artist(scalebar)\n",
    "\n",
    "    # Add a north arrow\n",
    "    ax.annotate('N', xy=(conf_x, conf_y), xytext=(conf_x, conf_y-conf_arrow_length),\n",
    "                arrowprops=dict(facecolor='black', width=5, headwidth=15),\n",
    "                ha='center', va='center', fontsize=12,\n",
    "                xycoords=ax.transAxes)\n",
    "\n",
    "    # plt.show()\n",
    "    plt.savefig(conf_data_path+image_name)\n",
    "    plt.close()\n",
    "else:\n",
    "    print(\"Anomaly map does not exist for the current selection\")"
   ]
  },
  {
   "cell_type": "code",
   "execution_count": null,
   "metadata": {},
   "outputs": [],
   "source": []
  }
 ],
 "metadata": {
  "kernelspec": {
   "display_name": "Python [conda env:biodt-hackathon25]",
   "language": "python",
   "name": "conda-env-biodt-hackathon25-py"
  },
  "language_info": {
   "codemirror_mode": {
    "name": "ipython",
    "version": 3
   },
   "file_extension": ".py",
   "mimetype": "text/x-python",
   "name": "python",
   "nbconvert_exporter": "python",
   "pygments_lexer": "ipython3",
   "version": "3.12.9"
  }
 },
 "nbformat": 4,
 "nbformat_minor": 4
}
